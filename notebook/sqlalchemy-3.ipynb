{
 "cells": [
  {
   "cell_type": "markdown",
   "metadata": {},
   "source": [
    "构造数据表，写入大量数据"
   ]
  },
  {
   "cell_type": "code",
   "execution_count": null,
   "metadata": {},
   "outputs": [],
   "source": [
    "# 建表\n",
    "from typing import List\n",
    "from typing import Optional\n",
    "from sqlalchemy import ForeignKey\n",
    "from sqlalchemy import String\n",
    "from sqlalchemy.orm import DeclarativeBase\n",
    "from sqlalchemy.orm import Mapped\n",
    "from sqlalchemy.orm import mapped_column\n",
    "from sqlalchemy.orm import relationship\n",
    "from sqlalchemy import create_engine\n",
    "engine = create_engine(\"sqlite:///test3.db\", echo=True)\n",
    "\n",
    "class Base(DeclarativeBase):\n",
    "    pass\n",
    "\n",
    "class User(Base):\n",
    "    __tablename__ = \"user_account\"\n",
    "    id: Mapped[int] = mapped_column(primary_key=True)\n",
    "    name: Mapped[str] = mapped_column(String(30))\n",
    "    fullname: Mapped[Optional[str]]\n",
    "    description: Mapped[str] = mapped_column(String(240))\n",
    "\n",
    "    def __repr__(self) -> str:\n",
    "        return f\"User(id={self.id!r}, name={self.name!r}, fullname={self.fullname!r})\"\n",
    "\n",
    "\n",
    "Base.metadata.create_all(engine)\n"
   ]
  },
  {
   "cell_type": "code",
   "execution_count": null,
   "metadata": {},
   "outputs": [],
   "source": [
    "import random\n",
    "import string   \n",
    "def gen_name():\n",
    "    length = random.randint(3, 9)\n",
    "    name = ''.join(random.choices(string.ascii_lowercase, k=length))\n",
    "    return name.capitalize()\n",
    "\n",
    "\n",
    "from sqlalchemy.orm import Session\n",
    "with Session(engine) as session:\n",
    "    for _ in range(1000):\n",
    "        name = gen_name()\n",
    "        new_user = User(\n",
    "            name = name,\n",
    "            fullname = name+' '+gen_name(),\n",
    "            description=\"for test...\"\n",
    "            )\n",
    "        session.add(new_user)\n",
    "    session.commit()"
   ]
  },
  {
   "cell_type": "code",
   "execution_count": null,
   "metadata": {},
   "outputs": [],
   "source": [
    "with Session(engine) as s:\n",
    "    users = s.query(User).all()\n",
    "\n",
    "for user in users:\n",
    "    print(user)"
   ]
  },
  {
   "cell_type": "code",
   "execution_count": null,
   "metadata": {},
   "outputs": [],
   "source": [
    "%%timeit\n",
    "with Session(engine) as s:\n",
    "    u = s.query(User).filter_by(name='Lknom').first()\n",
    "print(u)"
   ]
  },
  {
   "cell_type": "code",
   "execution_count": null,
   "metadata": {},
   "outputs": [],
   "source": [
    "%%timeit\n",
    "\n",
    "from sqlalchemy import select\n",
    "stmt = select(User).where(User.name == 'Lknom')\n",
    "\n",
    "with Session(engine) as s:\n",
    "    u = session.scalars(stmt).one()\n",
    "print(u)"
   ]
  },
  {
   "cell_type": "code",
   "execution_count": null,
   "metadata": {},
   "outputs": [],
   "source": [
    "%%timeit\n",
    "from sqlalchemy import text\n",
    "query = text(\"SELECT * FROM user_account WHERE name = :name\")\n",
    "\n",
    "with Session(engine) as s:\n",
    "    result = s.execute(query, {'name': \"Lknom\"})\n",
    "\n",
    "# 获取查询结果\n",
    "for row in result:\n",
    "    print(row)"
   ]
  }
 ],
 "metadata": {
  "kernelspec": {
   "display_name": "Python 3 (ipykernel)",
   "language": "python",
   "name": "python3"
  },
  "language_info": {
   "codemirror_mode": {
    "name": "ipython",
    "version": 3
   },
   "file_extension": ".py",
   "mimetype": "text/x-python",
   "name": "python",
   "nbconvert_exporter": "python",
   "pygments_lexer": "ipython3",
   "version": "3.11.6"
  }
 },
 "nbformat": 4,
 "nbformat_minor": 2
}
