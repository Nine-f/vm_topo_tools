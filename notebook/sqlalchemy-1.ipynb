{
 "cells": [
  {
   "cell_type": "markdown",
   "id": "ac4ac256-bfe3-411c-b0b0-f711a1e58d64",
   "metadata": {},
   "source": [
    "# SQLAlchemy简单教程\n",
    "\n",
    "通过一个简单示例，完成连接数据库、建表，并进行增删改查操作\n",
    "\n",
    "环境准备：\n",
    "\n",
    "```shell\n",
    "pip install sqlalchemy\n",
    "```"
   ]
  },
  {
   "cell_type": "markdown",
   "id": "4bc86ee2-1082-45c9-a886-3c9a96ee0860",
   "metadata": {},
   "source": [
    "## 连接数据库\n",
    "\n",
    "create_engine的参数有很多，我列一些比较常用的：\n",
    "\n",
    "- echo=False -- 如果为真，引擎将记录所有语句以及 repr() 其参数列表的默认日志处理程序。\n",
    "- enable_from_linting -- 默认为True。如果发现给定的SELECT语句与将导致笛卡尔积的元素取消链接，则将发出警告。\n",
    "- encoding -- 默认为 utf-8\n",
    "- future -- 使用2.0样式\n",
    "- hide_parameters -- 布尔值，当设置为True时，SQL语句参数将不会显示在信息日志中，也不会格式化为 StatementError 对象。\n",
    "- listeners -- 一个或多个列表 PoolListener 将接收连接池事件的对象。\n",
    "- logging_name -- 字符串标识符，默认为对象id的十六进制字符串。\n",
    "- max_identifier_length -- 整数；重写方言确定的最大标识符长度。\n",
    "- max_overflow=10 -- 允许在连接池中“溢出”的连接数，即可以在池大小设置（默认为5）之上或之外打开的连接数。\n",
    "- pool_size=5 -- 在连接池中保持打开的连接数\n",
    "- plugins -- 要加载的插件名称的字符串列表。"
   ]
  },
  {
   "cell_type": "code",
   "execution_count": 1,
   "id": "97fb1704-0075-4e3f-a652-3449cacdbc4a",
   "metadata": {
    "scrolled": true
   },
   "outputs": [],
   "source": [
    "from sqlalchemy import create_engine\n",
    "\n",
    "engine = create_engine('sqlite:///test.db', echo=True)"
   ]
  },
  {
   "cell_type": "markdown",
   "id": "854f8d1f-3f25-4c19-a668-b517f330312a",
   "metadata": {},
   "source": [
    "## 创建数据表\n",
    "\n",
    "声明映射，就是我们在Python中创建的一个类，对应着数据库中的一张表，类的每个属性，就是这个表的字段名。\n",
    "这种的类对应于数据库中表的类，就称为映射类，我们要创建一个映射类，是基于基类定义的，每个映射类都要继承这个基类 declarative_base()。"
   ]
  },
  {
   "cell_type": "code",
   "execution_count": 2,
   "id": "241190c4-0bc7-4594-85cd-81d8f766d966",
   "metadata": {
    "scrolled": true
   },
   "outputs": [
    {
     "name": "stdout",
     "output_type": "stream",
     "text": [
      "2025-02-21 16:03:21,097 INFO sqlalchemy.engine.Engine BEGIN (implicit)\n",
      "2025-02-21 16:03:21,097 INFO sqlalchemy.engine.Engine PRAGMA main.table_info(\"users\")\n",
      "2025-02-21 16:03:21,098 INFO sqlalchemy.engine.Engine [raw sql] ()\n",
      "2025-02-21 16:03:21,099 INFO sqlalchemy.engine.Engine COMMIT\n"
     ]
    }
   ],
   "source": [
    "from sqlalchemy import Column, Integer, String\n",
    "from sqlalchemy.orm import declarative_base\n",
    "\n",
    "Base = declarative_base()\n",
    "\n",
    "class User(Base):\n",
    "    __tablename__ = 'users'\n",
    "    id = Column(Integer, primary_key=True)\n",
    "    name = Column(String)\n",
    "    age = Column(Integer)\n",
    "\n",
    "    def __repr__(self):\n",
    "        return f\"<User(id={self.id}, name={self.name}, age={self.age})>\"\n",
    "\n",
    "Base.metadata.create_all(engine)\n"
   ]
  },
  {
   "cell_type": "markdown",
   "id": "31d6fc66-46ca-4b70-a614-411b58c15d1f",
   "metadata": {},
   "source": [
    "## 创建sql会话"
   ]
  },
  {
   "cell_type": "code",
   "execution_count": 14,
   "id": "6875a8a9-41ca-4a88-accf-e56f1b9abdc5",
   "metadata": {},
   "outputs": [],
   "source": [
    "from sqlalchemy.orm import sessionmaker\n",
    "from contextlib import contextmanager\n",
    "\n",
    "\n",
    "Session = sessionmaker(bind=engine)\n",
    "session = Session()\n",
    "\n",
    "@contextmanager\n",
    "def get_db():\n",
    "    db = Session()\n",
    "    try:\n",
    "        yield db\n",
    "    finally:\n",
    "        db.close()\n"
   ]
  },
  {
   "cell_type": "markdown",
   "id": "8756dff6-6d7e-456f-99d8-a572d0ea9b83",
   "metadata": {},
   "source": [
    "## 插入数据"
   ]
  },
  {
   "cell_type": "code",
   "execution_count": 4,
   "id": "9f30a0b4-e7eb-41a5-ba47-b629b8e370c0",
   "metadata": {},
   "outputs": [
    {
     "name": "stdout",
     "output_type": "stream",
     "text": [
      "2025-02-21 16:03:26,754 INFO sqlalchemy.engine.Engine BEGIN (implicit)\n",
      "2025-02-21 16:03:26,758 INFO sqlalchemy.engine.Engine INSERT INTO users (name, age) VALUES (?, ?) RETURNING id\n",
      "2025-02-21 16:03:26,759 INFO sqlalchemy.engine.Engine [generated in 0.00022s (insertmanyvalues) 1/6 (ordered; batch not supported)] ('Alice', 30)\n",
      "2025-02-21 16:03:26,761 INFO sqlalchemy.engine.Engine INSERT INTO users (name, age) VALUES (?, ?) RETURNING id\n",
      "2025-02-21 16:03:26,762 INFO sqlalchemy.engine.Engine [insertmanyvalues 2/6 (ordered; batch not supported)] ('Bob', 32)\n",
      "2025-02-21 16:03:26,763 INFO sqlalchemy.engine.Engine INSERT INTO users (name, age) VALUES (?, ?) RETURNING id\n",
      "2025-02-21 16:03:26,764 INFO sqlalchemy.engine.Engine [insertmanyvalues 3/6 (ordered; batch not supported)] ('Jmey', 13)\n",
      "2025-02-21 16:03:26,767 INFO sqlalchemy.engine.Engine INSERT INTO users (name, age) VALUES (?, ?) RETURNING id\n",
      "2025-02-21 16:03:26,768 INFO sqlalchemy.engine.Engine [insertmanyvalues 4/6 (ordered; batch not supported)] ('Tank', 9)\n",
      "2025-02-21 16:03:26,768 INFO sqlalchemy.engine.Engine INSERT INTO users (name, age) VALUES (?, ?) RETURNING id\n",
      "2025-02-21 16:03:26,769 INFO sqlalchemy.engine.Engine [insertmanyvalues 5/6 (ordered; batch not supported)] ('Sandy', 87)\n",
      "2025-02-21 16:03:26,771 INFO sqlalchemy.engine.Engine INSERT INTO users (name, age) VALUES (?, ?) RETURNING id\n",
      "2025-02-21 16:03:26,772 INFO sqlalchemy.engine.Engine [insertmanyvalues 6/6 (ordered; batch not supported)] ('Neky', 98)\n",
      "2025-02-21 16:03:26,774 INFO sqlalchemy.engine.Engine COMMIT\n"
     ]
    }
   ],
   "source": [
    "\n",
    "user_data = [\n",
    "    {\"name\": \"Alice\", \"age\": 30},\n",
    "    {\"name\": \"Bob\", \"age\": 32},\n",
    "    {\"name\": \"Jmey\", \"age\": 13},\n",
    "    {\"name\": \"Tank\", \"age\": 9},\n",
    "    {\"name\": \"Sandy\", \"age\": 87},\n",
    "    {\"name\": \"Neky\", \"age\": 98},\n",
    "]\n",
    "for user in user_data:\n",
    "    u = User(**user)\n",
    "    session.add(u)\n",
    "\n",
    "session.commit()"
   ]
  },
  {
   "cell_type": "markdown",
   "id": "c3bfeeab-63fe-4607-91be-2b3f0b5c45a3",
   "metadata": {},
   "source": [
    "## 查询所有数据\n",
    "\n",
    "- query.filter() 过滤\n",
    "- query.filter_by() 根据关键字过滤\n",
    "- query.all() 返回列表\n",
    "- query.first() 返回第一个元素\n",
    "- query.one() 有且只有一个元素时才正确返回\n",
    "- query.one_or_none()，类似one，但如果没有找到结果，则不会引发错误\n",
    "- query.scalar()，调用one方法，并在成功时返回行的第一列\n",
    "- query.count() 计数\n",
    "- query.order_by() 排序\n",
    "- query.join() 连接查询"
   ]
  },
  {
   "cell_type": "code",
   "execution_count": 15,
   "id": "6b92db14-d513-4097-8a6f-c4f47eca8cad",
   "metadata": {},
   "outputs": [
    {
     "name": "stdout",
     "output_type": "stream",
     "text": [
      "2025-02-21 16:41:41,231 INFO sqlalchemy.engine.Engine BEGIN (implicit)\n",
      "2025-02-21 16:41:41,242 INFO sqlalchemy.engine.Engine SELECT users.id AS users_id, users.name AS users_name, users.age AS users_age \n",
      "FROM users\n",
      "2025-02-21 16:41:41,244 INFO sqlalchemy.engine.Engine [cached since 2288s ago] ()\n",
      "2025-02-21 16:41:41,255 INFO sqlalchemy.engine.Engine ROLLBACK\n",
      "<User(id=1, name=Alice, age=35)>\n",
      "<User(id=2, name=Alice, age=30)>\n",
      "<User(id=3, name=Bob, age=32)>\n",
      "<User(id=4, name=Jmey, age=13)>\n",
      "<User(id=6, name=Sandy, age=87)>\n",
      "<User(id=7, name=Neky, age=98)>\n",
      "<User(id=8, name=Alice, age=30)>\n",
      "<User(id=9, name=Bob, age=32)>\n",
      "<User(id=10, name=Jmey, age=13)>\n",
      "<User(id=12, name=Sandy, age=87)>\n",
      "<User(id=13, name=Neky, age=98)>\n",
      "<User(id=14, name=Alice, age=30)>\n",
      "<User(id=15, name=Bob, age=32)>\n",
      "<User(id=16, name=Jmey, age=13)>\n",
      "<User(id=18, name=Sandy, age=87)>\n",
      "<User(id=19, name=Neky, age=98)>\n",
      "<User(id=20, name=Alice, age=30)>\n",
      "<User(id=21, name=Bob, age=32)>\n",
      "<User(id=22, name=Jmey, age=13)>\n",
      "<User(id=24, name=Sandy, age=87)>\n",
      "<User(id=25, name=Neky, age=98)>\n"
     ]
    }
   ],
   "source": [
    "with get_db() as s:\n",
    "    users = s.query(User).all()\n",
    "\n",
    "for user in users:\n",
    "    print(user)"
   ]
  },
  {
   "cell_type": "markdown",
   "id": "499de72c-3117-47ee-81ce-f2b5df89ae59",
   "metadata": {},
   "source": [
    "## 查询单条数据"
   ]
  },
  {
   "cell_type": "code",
   "execution_count": 16,
   "id": "98d5a0aa-486d-40e3-b848-a4cc35d02d7f",
   "metadata": {},
   "outputs": [
    {
     "name": "stdout",
     "output_type": "stream",
     "text": [
      "2025-02-21 16:41:52,099 INFO sqlalchemy.engine.Engine BEGIN (implicit)\n",
      "2025-02-21 16:41:52,103 INFO sqlalchemy.engine.Engine SELECT users.id AS users_id, users.name AS users_name, users.age AS users_age \n",
      "FROM users \n",
      "WHERE users.name = ?\n",
      " LIMIT ? OFFSET ?\n",
      "2025-02-21 16:41:52,104 INFO sqlalchemy.engine.Engine [cached since 2295s ago] ('Alice', 1, 0)\n",
      "<User(id=1, name=Alice, age=35)>\n"
     ]
    }
   ],
   "source": [
    "user = session.query(User).filter_by(name='Alice').first()\n",
    "print(user)"
   ]
  },
  {
   "cell_type": "markdown",
   "id": "57c6253d-76fe-4c4d-a7d5-a94a3b303001",
   "metadata": {},
   "source": [
    "## 修改数据"
   ]
  },
  {
   "cell_type": "code",
   "execution_count": 9,
   "id": "cc8eff62-49b1-44f8-9a20-032ee8de4045",
   "metadata": {},
   "outputs": [
    {
     "name": "stdout",
     "output_type": "stream",
     "text": [
      "2025-02-21 16:03:58,045 INFO sqlalchemy.engine.Engine SELECT users.id AS users_id, users.name AS users_name, users.age AS users_age \n",
      "FROM users \n",
      "WHERE users.name = ?\n",
      " LIMIT ? OFFSET ?\n",
      "2025-02-21 16:03:58,047 INFO sqlalchemy.engine.Engine [cached since 20.69s ago] ('Alice', 1, 0)\n",
      "2025-02-21 16:03:58,053 INFO sqlalchemy.engine.Engine UPDATE users SET age=? WHERE users.id = ?\n",
      "2025-02-21 16:03:58,053 INFO sqlalchemy.engine.Engine [generated in 0.00076s] (35, 1)\n",
      "2025-02-21 16:03:58,055 INFO sqlalchemy.engine.Engine COMMIT\n"
     ]
    }
   ],
   "source": [
    "user = session.query(User).filter_by(name='Alice').first()\n",
    "if user:\n",
    "    user.age = 35\n",
    "    session.commit()"
   ]
  },
  {
   "cell_type": "markdown",
   "id": "5a29c0e1-fa25-45b9-a865-46c51ea65eef",
   "metadata": {},
   "source": [
    "## 删除数据"
   ]
  },
  {
   "cell_type": "code",
   "execution_count": 11,
   "id": "b3bc35e7-a70a-494e-bf6b-337d519a07c9",
   "metadata": {},
   "outputs": [
    {
     "name": "stdout",
     "output_type": "stream",
     "text": [
      "2025-02-21 16:04:07,249 INFO sqlalchemy.engine.Engine SELECT users.id AS users_id, users.name AS users_name, users.age AS users_age \n",
      "FROM users \n",
      "WHERE users.name = ?\n",
      " LIMIT ? OFFSET ?\n",
      "2025-02-21 16:04:07,251 INFO sqlalchemy.engine.Engine [cached since 29.9s ago] ('Tank', 1, 0)\n",
      "2025-02-21 16:04:07,254 INFO sqlalchemy.engine.Engine DELETE FROM users WHERE users.id = ?\n",
      "2025-02-21 16:04:07,255 INFO sqlalchemy.engine.Engine [generated in 0.00088s] (23,)\n",
      "2025-02-21 16:04:07,257 INFO sqlalchemy.engine.Engine COMMIT\n"
     ]
    }
   ],
   "source": [
    "user = session.query(User).filter_by(name='Tank').first()\n",
    "if user:\n",
    "    session.delete(user)\n",
    "    session.commit()"
   ]
  }
 ],
 "metadata": {
  "kernelspec": {
   "display_name": "Python 3 (ipykernel)",
   "language": "python",
   "name": "python3"
  },
  "language_info": {
   "codemirror_mode": {
    "name": "ipython",
    "version": 3
   },
   "file_extension": ".py",
   "mimetype": "text/x-python",
   "name": "python",
   "nbconvert_exporter": "python",
   "pygments_lexer": "ipython3",
   "version": "3.11.6"
  }
 },
 "nbformat": 4,
 "nbformat_minor": 5
}
