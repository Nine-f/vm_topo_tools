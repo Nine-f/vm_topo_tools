{
 "cells": [
  {
   "cell_type": "markdown",
   "metadata": {},
   "source": [
    "# SQLAlchemy官方示例\n",
    "\n",
    "[参考链接](https://docs.sqlalchemy.org/en/20/orm/quickstart.html#declare-models)"
   ]
  },
  {
   "cell_type": "markdown",
   "metadata": {},
   "source": [
    "## 创建数据模型"
   ]
  },
  {
   "cell_type": "code",
   "execution_count": 27,
   "metadata": {},
   "outputs": [],
   "source": [
    "from typing import List\n",
    "from typing import Optional\n",
    "from sqlalchemy import ForeignKey\n",
    "from sqlalchemy import String\n",
    "from sqlalchemy.orm import DeclarativeBase\n",
    "from sqlalchemy.orm import Mapped\n",
    "from sqlalchemy.orm import mapped_column\n",
    "from sqlalchemy.orm import relationship\n",
    "\n",
    "class Base(DeclarativeBase):\n",
    "    pass\n",
    "\n",
    "class User(Base):\n",
    "    __tablename__ = \"user_account\"\n",
    "    id: Mapped[int] = mapped_column(primary_key=True)\n",
    "    name: Mapped[str] = mapped_column(String(30))\n",
    "    fullname: Mapped[Optional[str]]\n",
    "    addresses: Mapped[List[\"Address\"]] = relationship(\n",
    "        back_populates=\"user\", cascade=\"all, delete-orphan\"\n",
    "    )\n",
    "    def __repr__(self) -> str:\n",
    "        return f\"User(id={self.id!r}, name={self.name!r}, fullname={self.fullname!r})\"\n",
    "\n",
    "class Address(Base):\n",
    "    __tablename__ = \"address\"\n",
    "    id: Mapped[int] = mapped_column(primary_key=True)\n",
    "    email_address: Mapped[str]\n",
    "    user_id: Mapped[int] = mapped_column(ForeignKey(\"user_account.id\"))\n",
    "    user: Mapped[\"User\"] = relationship(back_populates=\"addresses\")\n",
    "    def __repr__(self) -> str:\n",
    "        return f\"Address(id={self.id!r}, email_address={self.email_address!r})\""
   ]
  },
  {
   "cell_type": "markdown",
   "metadata": {},
   "source": [
    "## 创建连接"
   ]
  },
  {
   "cell_type": "code",
   "execution_count": 28,
   "metadata": {},
   "outputs": [],
   "source": [
    "from sqlalchemy import create_engine\n",
    "engine = create_engine(\"sqlite:///test2.db\", echo=True)"
   ]
  },
  {
   "cell_type": "markdown",
   "metadata": {},
   "source": [
    "## 创建数据表"
   ]
  },
  {
   "cell_type": "code",
   "execution_count": 29,
   "metadata": {},
   "outputs": [
    {
     "name": "stdout",
     "output_type": "stream",
     "text": [
      "2025-02-21 17:31:12,864 INFO sqlalchemy.engine.Engine BEGIN (implicit)\n",
      "2025-02-21 17:31:12,865 INFO sqlalchemy.engine.Engine PRAGMA main.table_info(\"user_account\")\n",
      "2025-02-21 17:31:12,866 INFO sqlalchemy.engine.Engine [raw sql] ()\n",
      "2025-02-21 17:31:12,868 INFO sqlalchemy.engine.Engine PRAGMA main.table_info(\"address\")\n",
      "2025-02-21 17:31:12,868 INFO sqlalchemy.engine.Engine [raw sql] ()\n",
      "2025-02-21 17:31:12,869 INFO sqlalchemy.engine.Engine COMMIT\n"
     ]
    }
   ],
   "source": [
    "Base.metadata.create_all(engine)"
   ]
  },
  {
   "cell_type": "markdown",
   "metadata": {},
   "source": [
    "## 插入数据"
   ]
  },
  {
   "cell_type": "code",
   "execution_count": 30,
   "metadata": {},
   "outputs": [
    {
     "name": "stdout",
     "output_type": "stream",
     "text": [
      "2025-02-21 17:31:24,626 INFO sqlalchemy.engine.Engine BEGIN (implicit)\n",
      "2025-02-21 17:31:24,678 INFO sqlalchemy.engine.Engine INSERT INTO user_account (name, fullname) VALUES (?, ?) RETURNING id\n",
      "2025-02-21 17:31:24,679 INFO sqlalchemy.engine.Engine [generated in 0.00105s (insertmanyvalues) 1/3 (ordered; batch not supported)] ('spongebob', 'Spongebob Squarepants')\n",
      "2025-02-21 17:31:24,680 INFO sqlalchemy.engine.Engine INSERT INTO user_account (name, fullname) VALUES (?, ?) RETURNING id\n",
      "2025-02-21 17:31:24,681 INFO sqlalchemy.engine.Engine [insertmanyvalues 2/3 (ordered; batch not supported)] ('sandy', 'Sandy Cheeks')\n",
      "2025-02-21 17:31:24,681 INFO sqlalchemy.engine.Engine INSERT INTO user_account (name, fullname) VALUES (?, ?) RETURNING id\n",
      "2025-02-21 17:31:24,682 INFO sqlalchemy.engine.Engine [insertmanyvalues 3/3 (ordered; batch not supported)] ('patrick', 'Patrick Star')\n",
      "2025-02-21 17:31:24,687 INFO sqlalchemy.engine.Engine INSERT INTO address (email_address, user_id) VALUES (?, ?) RETURNING id\n",
      "2025-02-21 17:31:24,687 INFO sqlalchemy.engine.Engine [generated in 0.00015s (insertmanyvalues) 1/3 (ordered; batch not supported)] ('spongebob@sqlalchemy.org', 1)\n",
      "2025-02-21 17:31:24,688 INFO sqlalchemy.engine.Engine INSERT INTO address (email_address, user_id) VALUES (?, ?) RETURNING id\n",
      "2025-02-21 17:31:24,689 INFO sqlalchemy.engine.Engine [insertmanyvalues 2/3 (ordered; batch not supported)] ('sandy@sqlalchemy.org', 2)\n",
      "2025-02-21 17:31:24,690 INFO sqlalchemy.engine.Engine INSERT INTO address (email_address, user_id) VALUES (?, ?) RETURNING id\n",
      "2025-02-21 17:31:24,691 INFO sqlalchemy.engine.Engine [insertmanyvalues 3/3 (ordered; batch not supported)] ('sandy@squirrelpower.org', 2)\n",
      "2025-02-21 17:31:24,693 INFO sqlalchemy.engine.Engine COMMIT\n"
     ]
    }
   ],
   "source": [
    "from sqlalchemy.orm import Session\n",
    "\n",
    "with Session(engine) as session:\n",
    "    spongebob = User(\n",
    "        name=\"spongebob\",\n",
    "        fullname=\"Spongebob Squarepants\",\n",
    "        addresses=[Address(email_address=\"spongebob@sqlalchemy.org\")],\n",
    "    )\n",
    "    sandy = User(\n",
    "        name=\"sandy\",\n",
    "        fullname=\"Sandy Cheeks\",\n",
    "        addresses=[\n",
    "            Address(email_address=\"sandy@sqlalchemy.org\"),\n",
    "            Address(email_address=\"sandy@squirrelpower.org\"),\n",
    "        ],\n",
    "    )\n",
    "    patrick = User(name=\"patrick\", fullname=\"Patrick Star\")\n",
    "    session.add_all([spongebob, sandy, patrick])\n",
    "    session.commit()"
   ]
  },
  {
   "cell_type": "markdown",
   "metadata": {},
   "source": [
    "## 查询数据"
   ]
  },
  {
   "cell_type": "code",
   "execution_count": 34,
   "metadata": {},
   "outputs": [
    {
     "name": "stdout",
     "output_type": "stream",
     "text": [
      "2025-02-21 17:42:58,887 INFO sqlalchemy.engine.Engine BEGIN (implicit)\n",
      "2025-02-21 17:42:58,892 INFO sqlalchemy.engine.Engine SELECT user_account.id, user_account.name, user_account.fullname \n",
      "FROM user_account \n",
      "WHERE user_account.name IN (?, ?)\n",
      "2025-02-21 17:42:58,894 INFO sqlalchemy.engine.Engine [cached since 669.1s ago] ('spongebob', 'sandy')\n",
      "User(id=1, name='spongebob', fullname='Spongebob Squarepants')\n",
      "User(id=2, name='sandy', fullname='Sandy Cheeks')\n"
     ]
    }
   ],
   "source": [
    "from sqlalchemy import select\n",
    "\n",
    "session = Session(engine)\n",
    "\n",
    "stmt = select(User).where(User.name.in_([\"spongebob\", \"sandy\"]))\n",
    "\n",
    "for user in session.scalars(stmt):\n",
    "    print(user)"
   ]
  },
  {
   "cell_type": "markdown",
   "metadata": {},
   "source": [
    "## join查询"
   ]
  },
  {
   "cell_type": "code",
   "execution_count": 32,
   "metadata": {},
   "outputs": [
    {
     "name": "stdout",
     "output_type": "stream",
     "text": [
      "2025-02-21 17:32:22,397 INFO sqlalchemy.engine.Engine SELECT address.id, address.email_address, address.user_id \n",
      "FROM address JOIN user_account ON user_account.id = address.user_id \n",
      "WHERE user_account.name = ? AND address.email_address = ?\n",
      "2025-02-21 17:32:22,401 INFO sqlalchemy.engine.Engine [generated in 0.00525s] ('sandy', 'sandy@sqlalchemy.org')\n",
      "Address(id=2, email_address='sandy@sqlalchemy.org')\n"
     ]
    }
   ],
   "source": [
    "stmt = (\n",
    "    select(Address)\n",
    "    .join(Address.user)\n",
    "    .where(User.name == \"sandy\")\n",
    "    .where(Address.email_address == \"sandy@sqlalchemy.org\")\n",
    ")\n",
    "sandy_address = session.scalars(stmt).one()\n",
    "print(sandy_address)"
   ]
  },
  {
   "cell_type": "markdown",
   "metadata": {},
   "source": [
    "## 修改"
   ]
  },
  {
   "cell_type": "code",
   "execution_count": 33,
   "metadata": {},
   "outputs": [
    {
     "name": "stdout",
     "output_type": "stream",
     "text": [
      "2025-02-21 17:42:49,995 INFO sqlalchemy.engine.Engine SELECT user_account.id, user_account.name, user_account.fullname \n",
      "FROM user_account \n",
      "WHERE user_account.name = ?\n",
      "2025-02-21 17:42:49,997 INFO sqlalchemy.engine.Engine [generated in 0.00291s] ('patrick',)\n",
      "2025-02-21 17:42:50,066 INFO sqlalchemy.engine.Engine SELECT address.id AS address_id, address.email_address AS address_email_address, address.user_id AS address_user_id \n",
      "FROM address \n",
      "WHERE ? = address.user_id\n",
      "2025-02-21 17:42:50,071 INFO sqlalchemy.engine.Engine [generated in 0.00523s] (3,)\n",
      "2025-02-21 17:42:50,120 INFO sqlalchemy.engine.Engine UPDATE address SET email_address=? WHERE address.id = ?\n",
      "2025-02-21 17:42:50,121 INFO sqlalchemy.engine.Engine [generated in 0.00128s] ('sandy_cheeks@sqlalchemy.org', 2)\n",
      "2025-02-21 17:42:50,167 INFO sqlalchemy.engine.Engine INSERT INTO address (email_address, user_id) VALUES (?, ?)\n",
      "2025-02-21 17:42:50,167 INFO sqlalchemy.engine.Engine [generated in 0.00083s] ('patrickstar@sqlalchemy.org', 3)\n",
      "2025-02-21 17:42:50,169 INFO sqlalchemy.engine.Engine COMMIT\n"
     ]
    }
   ],
   "source": [
    "stmt = select(User).where(User.name == \"patrick\")\n",
    "patrick = session.scalars(stmt).one()\n",
    "patrick.addresses.append(Address(email_address=\"patrickstar@sqlalchemy.org\"))\n",
    "sandy_address.email_address = \"sandy_cheeks@sqlalchemy.org\"\n",
    "\n",
    "session.commit()"
   ]
  },
  {
   "cell_type": "markdown",
   "metadata": {},
   "source": [
    "## 删除"
   ]
  },
  {
   "cell_type": "code",
   "execution_count": null,
   "metadata": {},
   "outputs": [],
   "source": [
    "sandy = session.get(User, 2)\n",
    "sandy.addresses.remove(sandy_address)\n",
    "session.flush()\n",
    "session.delete(patrick)\n",
    "session.commit()"
   ]
  }
 ],
 "metadata": {
  "kernelspec": {
   "display_name": "Python 3 (ipykernel)",
   "language": "python",
   "name": "python3"
  },
  "language_info": {
   "codemirror_mode": {
    "name": "ipython",
    "version": 3
   },
   "file_extension": ".py",
   "mimetype": "text/x-python",
   "name": "python",
   "nbconvert_exporter": "python",
   "pygments_lexer": "ipython3",
   "version": "3.11.6"
  }
 },
 "nbformat": 4,
 "nbformat_minor": 2
}
